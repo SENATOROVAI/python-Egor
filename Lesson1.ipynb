{
 "cells": [
  {
   "cell_type": "markdown",
   "metadata": {},
   "source": [
    "Fork - это операция клонирования чужого репазитория в свой личный аккаунт Гитхаба, для дальнейшего пул реквеста.\n",
    "Pull Requests - процедура переноса изменений из личного репозитория в форкнутый репазиторий, возможно только при наличии изменений.\n"
   ]
  }
 ],
 "metadata": {
  "language_info": {
   "name": "python"
  },
  "orig_nbformat": 4
 },
 "nbformat": 4,
 "nbformat_minor": 2
}
